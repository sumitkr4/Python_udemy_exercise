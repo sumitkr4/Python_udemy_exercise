{
 "cells": [
  {
   "cell_type": "code",
   "execution_count": 1,
   "id": "b831897b",
   "metadata": {},
   "outputs": [
    {
     "name": "stdout",
     "output_type": "stream",
     "text": [
      "18\n"
     ]
    }
   ],
   "source": [
    "# Question: Let's start with easy things first. What will the following code produce?\n",
    "a = 2\n",
    "a = 4\n",
    "a = 6\n",
    "print(a + a + a) \n",
    "# output 18"
   ]
  },
  {
   "cell_type": "code",
   "execution_count": null,
   "id": "1d2852f6",
   "metadata": {},
   "outputs": [],
   "source": [
    "# Question: What's wrong with the following script?\n",
    "a = 1\n",
    "_a = 2\n",
    "_a2 = 3\n",
    "2a = 4  #varibale name cannot start with integer value."
   ]
  },
  {
   "cell_type": "code",
   "execution_count": 3,
   "id": "25c612eb",
   "metadata": {},
   "outputs": [],
   "source": [
    "# Question: Executing the code will throw an error. Can you explain why?\n",
    "a = 1\n",
    "b = 2\n",
    "print(a == b)\n",
    "print(b == c) # because variable c is not define"
   ]
  },
  {
   "cell_type": "code",
   "execution_count": 4,
   "id": "82210b0e",
   "metadata": {},
   "outputs": [
    {
     "name": "stdout",
     "output_type": "stream",
     "text": [
      "3\n"
     ]
    }
   ],
   "source": [
    "# Question: Fix the last line so that it outputs the sum of 1 and 2. Please do not change the first two lines, only the last one.\n",
    "a = \"1\"\n",
    "b = 2\n",
    "print(int(a) + b)\n",
    "# Expected output: 3"
   ]
  },
  {
   "cell_type": "code",
   "execution_count": null,
   "id": "623ffe2a",
   "metadata": {},
   "outputs": [],
   "source": [
    "# Question: Complete the script so that it prints out the second item of the list.\n",
    "letters = [\"a\", \"b\", \"c\", \"d\", \"e\", \"f\", \"g\", \"h\", \"i\", \"j\"]\n",
    "print(letters[1])"
   ]
  },
  {
   "cell_type": "code",
   "execution_count": 12,
   "id": "2de09ef4",
   "metadata": {},
   "outputs": [
    {
     "name": "stdout",
     "output_type": "stream",
     "text": [
      "['d', 'e', 'f']\n"
     ]
    }
   ],
   "source": [
    "# Question: Please complete the script so that it prints out a list slice containing items d , e , and f .\n",
    "letters = [\"a\", \"b\", \"c\", \"d\", \"e\", \"f\", \"g\", \"h\", \"i\", \"j\"]\n",
    "print(letters[3:6])"
   ]
  },
  {
   "cell_type": "code",
   "execution_count": 7,
   "id": "17ba2a16",
   "metadata": {},
   "outputs": [
    {
     "name": "stdout",
     "output_type": "stream",
     "text": [
      "['a', 'b', 'c']\n"
     ]
    }
   ],
   "source": [
    "# Question: List slicing is important in various data manipulation activities. Let's do a few more exercises on that.\n",
    "# Please complete the script so that it prints out the first three items of list letters.\n",
    "\n",
    "letters = [\"a\", \"b\", \"c\", \"d\", \"e\", \"f\", \"g\", \"h\", \"i\", \"j\"]\n",
    "print(letters[:3])"
   ]
  },
  {
   "cell_type": "code",
   "execution_count": 10,
   "id": "14aab924",
   "metadata": {},
   "outputs": [
    {
     "name": "stdout",
     "output_type": "stream",
     "text": [
      "i\n"
     ]
    }
   ],
   "source": [
    "# Question: Complete the script so that it prints out the letter i  using negative indexing.\n",
    "letters = [\"a\", \"b\", \"c\", \"d\", \"e\", \"f\", \"g\", \"h\", \"i\", \"j\"]\n",
    "print(letters[-2])"
   ]
  },
  {
   "cell_type": "code",
   "execution_count": 11,
   "id": "5518a8a7",
   "metadata": {},
   "outputs": [
    {
     "name": "stdout",
     "output_type": "stream",
     "text": [
      "['h', 'i', 'j']\n"
     ]
    }
   ],
   "source": [
    "# Question: Complete the script so that it prints out a list slice containing the last three items of the list letters .\n",
    "letters = [\"a\", \"b\", \"c\", \"d\", \"e\", \"f\", \"g\", \"h\", \"i\", \"j\"]\n",
    "print(letters[-3:])"
   ]
  },
  {
   "cell_type": "code",
   "execution_count": 14,
   "id": "63c8dbe2",
   "metadata": {},
   "outputs": [
    {
     "name": "stdout",
     "output_type": "stream",
     "text": [
      "['a', 'c', 'e', 'g', 'i']\n"
     ]
    }
   ],
   "source": [
    "# Question: Complete the script so that it prints out a list slice containing letters a, c, e, g, and i. \n",
    "letters = [\"a\", \"b\", \"c\", \"d\", \"e\", \"f\", \"g\", \"h\", \"i\", \"j\"]\n",
    "print(letters[::2])"
   ]
  },
  {
   "cell_type": "code",
   "execution_count": 20,
   "id": "83a8edca",
   "metadata": {},
   "outputs": [
    {
     "name": "stdout",
     "output_type": "stream",
     "text": [
      "[1, 2, 3, 4, 5, 6, 7, 8, 9, 10, 11, 12, 13, 14, 15, 16, 17, 18, 19, 20]\n"
     ]
    }
   ],
   "source": [
    "# Create a script that generates and prints a list of numbers from 1 to 20. Please do not create the list manually.\n",
    "print(list(range(1,21)))"
   ]
  },
  {
   "cell_type": "code",
   "execution_count": 23,
   "id": "c5ea4a9d",
   "metadata": {},
   "outputs": [
    {
     "name": "stdout",
     "output_type": "stream",
     "text": [
      "[10, 20, 30, 40, 50, 60, 70, 80, 90, 100, 110, 120, 130, 140, 150, 160, 170, 180, 190, 200]\n"
     ]
    }
   ],
   "source": [
    "# Question: Complete the script so that it produces the expected output. Please use my_range  as input data.\n",
    "my_range = range(1, 21)\n",
    "print([10*i for i in my_range])"
   ]
  },
  {
   "cell_type": "code",
   "execution_count": 22,
   "id": "040a4a5f",
   "metadata": {},
   "outputs": [
    {
     "name": "stdout",
     "output_type": "stream",
     "text": [
      "['1', '2', '3', '4', '5', '6', '7', '8', '9', '10', '11', '12', '13', '14', '15', '16', '17', '18', '19', '20']\n"
     ]
    }
   ],
   "source": [
    "# Question: Complete the script, so it generates the expected output using my_range  as input data.\n",
    "# Please note that the items of the expected list output are all strings.\n",
    "my_range = range(1, 21)\n",
    "print([str(i) for i in my_range])"
   ]
  },
  {
   "cell_type": "code",
   "execution_count": 25,
   "id": "fe9ab80e",
   "metadata": {},
   "outputs": [
    {
     "name": "stdout",
     "output_type": "stream",
     "text": [
      "[1, 2, '1']\n"
     ]
    }
   ],
   "source": [
    "# Question: Complete the script so that it removes duplicate items from the list a .\n",
    "a = [\"1\", 1, \"1\", 2]\n",
    "print(list(set(a)))"
   ]
  },
  {
   "cell_type": "code",
   "execution_count": 26,
   "id": "c6bb3127",
   "metadata": {},
   "outputs": [
    {
     "name": "stdout",
     "output_type": "stream",
     "text": [
      "{'a': 1, 'b': 2}\n"
     ]
    }
   ],
   "source": [
    "# Question: Create a dictionary that contains the keys a  and b  and their respective values 1  and 2 .\n",
    "d={}\n",
    "d['a'] =1\n",
    "d['b'] = 2\n",
    "print(d)"
   ]
  },
  {
   "cell_type": "code",
   "execution_count": 27,
   "id": "fc9ad96d",
   "metadata": {},
   "outputs": [
    {
     "name": "stdout",
     "output_type": "stream",
     "text": [
      "2\n"
     ]
    }
   ],
   "source": [
    "# Question: Please complete the script so that it prints out the value of key b .\n",
    "d = {\"a\": 1, \"b\": 2}\n",
    "print(d['b'])"
   ]
  },
  {
   "cell_type": "code",
   "execution_count": 28,
   "id": "9d5afc19",
   "metadata": {},
   "outputs": [
    {
     "name": "stdout",
     "output_type": "stream",
     "text": [
      "3\n"
     ]
    }
   ],
   "source": [
    "# Question: Calculate the sum of the values of keys a  and b .\n",
    "d = {\"a\": 1, \"b\": 2, \"c\": 3}\n",
    "print(d[\"a\"]+d[\"b\"])"
   ]
  },
  {
   "cell_type": "code",
   "execution_count": 3,
   "id": "15cfb755",
   "metadata": {},
   "outputs": [],
   "source": [
    "d = {\"Name\": \"John\", \"Surname\": \"Smith\"}\n",
    "print(d[\"Smith\"])"
   ]
  },
  {
   "cell_type": "code",
   "execution_count": null,
   "id": "2cd2b8e6",
   "metadata": {},
   "outputs": [],
   "source": [
    "# Question: Add a new pair of key (e.g. c ) and value (e.g. 3 ) to the dictionary and print out the new dictionary.\n",
    "d = {\"a\": 1, \"b\": 2}\n",
    "d['c'] =3\n",
    "print(d)"
   ]
  },
  {
   "cell_type": "code",
   "execution_count": 32,
   "id": "03d07c82",
   "metadata": {},
   "outputs": [
    {
     "name": "stdout",
     "output_type": "stream",
     "text": [
      "6\n"
     ]
    }
   ],
   "source": [
    "# Question: Calculate the sum of all dictionary values.\n",
    "d = {\"a\": 1, \"b\": 2, \"c\": 3}\n",
    "print(sum(d.values()))"
   ]
  },
  {
   "cell_type": "code",
   "execution_count": 2,
   "id": "ed65380e",
   "metadata": {},
   "outputs": [
    {
     "name": "stdout",
     "output_type": "stream",
     "text": [
      "{'a': 1}\n"
     ]
    }
   ],
   "source": [
    "# Question: Filter the dictionary by removing all items with a value of greater than 1.\n",
    "d = {\"a\": 1, \"b\": 2, \"c\": 3}\n",
    "new_dic={}\n",
    "for key,value in d.items():\n",
    "    if d[key] <= 1:\n",
    "         new_dic[key] =value\n",
    "        \n",
    "print(new_dic)\n",
    "    "
   ]
  },
  {
   "cell_type": "code",
   "execution_count": 6,
   "id": "cb27d1b9",
   "metadata": {},
   "outputs": [
    {
     "name": "stdout",
     "output_type": "stream",
     "text": [
      "{'a': [1, 2, 3, 4, 5, 6, 7, 8, 9, 10],\n",
      " 'b': [11, 12, 13, 14, 15, 16, 17, 18, 19, 20],\n",
      " 'c': [21, 22, 23, 24, 25, 26, 27, 28, 29, 30]}\n"
     ]
    }
   ],
   "source": [
    "#create a dictionary of keys a, b, c has as value a list from 1 to 10, 11 to 20, and 21 to 30 respectively and print out.\n",
    "from pprint import pprint\n",
    "result = {'a':list(range(1,11)),'b': list(range(11,21)), 'c':list(range(21,31))}\n",
    " \n",
    "pprint(result)\n"
   ]
  },
  {
   "cell_type": "code",
   "execution_count": 8,
   "id": "7f1924cb",
   "metadata": {},
   "outputs": [
    {
     "name": "stdout",
     "output_type": "stream",
     "text": [
      "13\n"
     ]
    }
   ],
   "source": [
    "# Question: Access the third value of key b  from the above dictionary.\n",
    "for key in result.keys():\n",
    "    if key == 'b':\n",
    "        print(result['b'][2])"
   ]
  },
  {
   "cell_type": "code",
   "execution_count": 12,
   "id": "eae47d35",
   "metadata": {},
   "outputs": [
    {
     "name": "stdout",
     "output_type": "stream",
     "text": [
      "b has value  [11, 12, 13, 14, 15, 16, 17, 18, 19, 20]\n",
      "c has value  [21, 22, 23, 24, 25, 26, 27, 28, 29, 30]\n",
      "a has value  [1, 2, 3, 4, 5, 6, 7, 8, 9, 10]\n"
     ]
    }
   ],
   "source": [
    "# Question: Please complete the script so that it prints out the expected output.\n",
    "# Expected output: \n",
    "\n",
    "# b has value [11, 12, 13, 14, 15, 16, 17, 18, 19, 20]\n",
    "# c has value [21, 22, 23, 24, 25, 26, 27, 28, 29, 30]\n",
    "# a has value [1, 2, 3, 4, 5, 6, 7, 8, 9, 10]\n",
    "print(\"b has value \", result['b'])\n",
    "print(\"c has value \", result['c'])\n",
    "print(\"a has value \", result['a'])"
   ]
  },
  {
   "cell_type": "code",
   "execution_count": 19,
   "id": "caacd294",
   "metadata": {},
   "outputs": [],
   "source": [
    "#Make a script that print english alphabet letter from a to z\n",
    "import string \n",
    "for letter in string.ascii_lowercase:\n",
    "    print(letter)"
   ]
  },
  {
   "cell_type": "code",
   "execution_count": 20,
   "id": "5cc7fbfe",
   "metadata": {},
   "outputs": [
    {
     "name": "stdout",
     "output_type": "stream",
     "text": [
      "[1, 2, 3, 4, 5, 6, 7, 8, 9, 10]\n"
     ]
    }
   ],
   "source": [
    "# Question: Make a script that prints out numbers from 1 to 10\n",
    "print(list(range(1,11)))"
   ]
  },
  {
   "cell_type": "code",
   "execution_count": 21,
   "id": "4d721992",
   "metadata": {},
   "outputs": [
    {
     "name": "stdout",
     "output_type": "stream",
     "text": [
      "0.5\n"
     ]
    }
   ],
   "source": [
    "# Question: Create a function that calculates acceleration given initial velocity v1, final velocity v2,\n",
    "# start time t1, and end time t2. The formula for acceleration is:\n",
    "\n",
    "def acceleration(v1,v2,t1,t2):\n",
    "    return (v2-v1)/(t2-t1)\n",
    "print(acceleration(0,10,0,20))\n"
   ]
  },
  {
   "cell_type": "code",
   "execution_count": 25,
   "id": "ae35d7c7",
   "metadata": {},
   "outputs": [
    {
     "name": "stdout",
     "output_type": "stream",
     "text": [
      "5\n"
     ]
    },
    {
     "ename": "TypeError",
     "evalue": "unsupported operand type(s) for *: 'NoneType' and 'int'",
     "output_type": "error",
     "traceback": [
      "\u001b[1;31m---------------------------------------------------------------------------\u001b[0m",
      "\u001b[1;31mTypeError\u001b[0m                                 Traceback (most recent call last)",
      "Input \u001b[1;32mIn [25]\u001b[0m, in \u001b[0;36m<cell line: 5>\u001b[1;34m()\u001b[0m\n\u001b[0;32m      2\u001b[0m \u001b[38;5;28;01mdef\u001b[39;00m \u001b[38;5;21mfoo\u001b[39m(a, b):\n\u001b[0;32m      3\u001b[0m     \u001b[38;5;28mprint\u001b[39m(a \u001b[38;5;241m+\u001b[39m b)\n\u001b[1;32m----> 5\u001b[0m x \u001b[38;5;241m=\u001b[39m \u001b[43mfoo\u001b[49m\u001b[43m(\u001b[49m\u001b[38;5;241;43m2\u001b[39;49m\u001b[43m,\u001b[49m\u001b[43m \u001b[49m\u001b[38;5;241;43m3\u001b[39;49m\u001b[43m)\u001b[49m\u001b[43m \u001b[49m\u001b[38;5;241;43m*\u001b[39;49m\u001b[43m \u001b[49m\u001b[38;5;241;43m10\u001b[39;49m\n",
      "\u001b[1;31mTypeError\u001b[0m: unsupported operand type(s) for *: 'NoneType' and 'int'"
     ]
    }
   ],
   "source": [
    "# Question:  Why is there an error in the code, and how would you fix it?\n",
    "def foo(a, b):\n",
    "    print(a + b)\n",
    " \n",
    "x = foo(2, 3) * 10\n",
    "\n",
    "# TypeError: unsupported operand type(s) for *: 'NoneType' and 'int'"
   ]
  },
  {
   "cell_type": "code",
   "execution_count": 27,
   "id": "d9ca8053",
   "metadata": {},
   "outputs": [
    {
     "name": "stdout",
     "output_type": "stream",
     "text": [
      "4071.5040790523717\n"
     ]
    }
   ],
   "source": [
    "# Question:  Please write a function that calculates liquid volume in a sphere using the following formula.\n",
    "#     The radius r  is always 10, so consider making it a default parameter.\n",
    "import math\n",
    "def liquidVolume(hc,r=10,):\n",
    "    volume = ((4*math.pi*r**3)/3) - (math.pi*(hc**2)*(3*r-hc))/3\n",
    "    return volume\n",
    "\n",
    "print(liquidVolume(2))"
   ]
  },
  {
   "cell_type": "code",
   "execution_count": null,
   "id": "dc709732",
   "metadata": {},
   "outputs": [],
   "source": [
    "# Question:  Why do you get an error, and how would you fix it?\n",
    "def foo(a=2, b):\n",
    "    return a + b\n",
    "#To fix this we have to pass default argument parameter at last."
   ]
  },
  {
   "cell_type": "code",
   "execution_count": 30,
   "id": "3e79b0ad",
   "metadata": {},
   "outputs": [
    {
     "ename": "TypeError",
     "evalue": "unsupported operand type(s) for -: 'function' and 'int'",
     "output_type": "error",
     "traceback": [
      "\u001b[1;31m---------------------------------------------------------------------------\u001b[0m",
      "\u001b[1;31mTypeError\u001b[0m                                 Traceback (most recent call last)",
      "Input \u001b[1;32mIn [30]\u001b[0m, in \u001b[0;36m<cell line: 6>\u001b[1;34m()\u001b[0m\n\u001b[0;32m      3\u001b[0m \u001b[38;5;28;01mdef\u001b[39;00m \u001b[38;5;21mfoo\u001b[39m(a\u001b[38;5;241m=\u001b[39m\u001b[38;5;241m1\u001b[39m, b\u001b[38;5;241m=\u001b[39m\u001b[38;5;241m2\u001b[39m):\n\u001b[0;32m      4\u001b[0m     \u001b[38;5;28;01mreturn\u001b[39;00m a \u001b[38;5;241m+\u001b[39m b\n\u001b[1;32m----> 6\u001b[0m x \u001b[38;5;241m=\u001b[39m \u001b[43mfoo\u001b[49m\u001b[43m \u001b[49m\u001b[38;5;241;43m-\u001b[39;49m\u001b[43m \u001b[49m\u001b[38;5;241;43m1\u001b[39;49m\n\u001b[0;32m      7\u001b[0m \u001b[38;5;28mprint\u001b[39m(x)\n",
      "\u001b[1;31mTypeError\u001b[0m: unsupported operand type(s) for -: 'function' and 'int'"
     ]
    }
   ],
   "source": [
    "# Question:  Why is there an error in the code, and how would you fix it?\n",
    "\n",
    "def foo(a=1, b=2):\n",
    "    return a + b\n",
    " \n",
    "x = foo - 1\n",
    "print(x)"
   ]
  },
  {
   "cell_type": "code",
   "execution_count": 31,
   "id": "18f6bc1a",
   "metadata": {},
   "outputs": [
    {
     "name": "stdout",
     "output_type": "stream",
     "text": [
      "3\n"
     ]
    }
   ],
   "source": [
    "# Question:  What will the following script output? Please try to do this by mind if you can.\n",
    "c = 1\n",
    "def foo():\n",
    "    return c\n",
    "c = 3\n",
    "print(foo())"
   ]
  },
  {
   "cell_type": "code",
   "execution_count": 32,
   "id": "3ae39d06",
   "metadata": {},
   "outputs": [
    {
     "name": "stdout",
     "output_type": "stream",
     "text": [
      "2\n"
     ]
    }
   ],
   "source": [
    "# Question:  Here's another similar exercise. What will the following script output? Try to do this mentally if you can.\n",
    "\n",
    "c = 1\n",
    "def foo():\n",
    "    c = 2\n",
    "    return c\n",
    "c = 3\n",
    "print(foo())"
   ]
  },
  {
   "cell_type": "code",
   "execution_count": 33,
   "id": "44fb33df",
   "metadata": {},
   "outputs": [
    {
     "name": "stdout",
     "output_type": "stream",
     "text": [
      "3\n"
     ]
    }
   ],
   "source": [
    "# Question: The following script throws a NameError  in the last line saying that c  is not defined.\n",
    "#     Please fix the function so that there is no error and the  last line can print out the value of c  (i.e. 1 ).\n",
    "global c  # Added this line\n",
    "def foo(): \n",
    "    c = 1 \n",
    "    return c \n",
    "foo() \n",
    "print(c)"
   ]
  },
  {
   "cell_type": "code",
   "execution_count": 34,
   "id": "3e37432d",
   "metadata": {},
   "outputs": [
    {
     "name": "stdout",
     "output_type": "stream",
     "text": [
      "my name is khan\n",
      "4\n"
     ]
    }
   ],
   "source": [
    "# Question: Create a function that takes any string as input and returns the number of words for that string\n",
    "def wordCount(s):\n",
    "    wordList = s.split(' ')\n",
    "    return len(wordList)\n",
    "\n",
    "print(wordCount(input()))\n"
   ]
  },
  {
   "cell_type": "markdown",
   "id": "940714a2",
   "metadata": {},
   "source": [
    "readlines(hint) --->The readlines() method returns a list containing each line in the file as a list item.\n",
    "Use the hint parameter to limit the number of lines returned. If the total number of bytes returned exceeds the specified number, no more lines are returned.\n",
    "\n",
    "readline(size)----->The readline() method returns one line from the file.\n",
    "You can also specified how many bytes from the line to return, by using the size parameter.size is optional\n",
    "\n",
    "read(size)--------->The read() method returns the specified number of bytes from the file. Default is -1 which means the whole file.size is optional\n",
    "ex:file.read(3) #### A t"
   ]
  },
  {
   "cell_type": "code",
   "execution_count": 65,
   "id": "0cca12fc",
   "metadata": {},
   "outputs": [
    {
     "name": "stdout",
     "output_type": "stream",
     "text": [
      "10\n"
     ]
    }
   ],
   "source": [
    "# Question: Please download the words1.txt file from the attachment and then create a Python function \n",
    "#     that takes a text file as input and returns the number of words contained in the text file.\n",
    "\n",
    "def countWord()\n",
    "    path = r\"C:\\Users\\Admin\\Downloads\\words1.txt\"  \n",
    "    #We need to convert normal string to raw string thats why we\n",
    "    with open(path,\"r\") as file:\n",
    "        data = file.read()\n",
    "        print(len(data.split()))\n",
    "\n",
    "countWord()\n",
    "    \n",
    "##If directl we give path it will throw error SyntaxError: (unicode error) 'unicodeescape' codec can't decode bytes in position 2-3: truncated \\UXXXXXXXX escape\n",
    "# to resolve this we have to convert normal string to raw string.\n",
    "# way of doing that.\n",
    "# path = (r\"C:\\Users\\Admin\\Downloads\\words1.txt\")\n",
    "# path = (\"C:\\Users\\Admin\\Downloads\\words1.txt\")\n",
    "# path = (\"C:\\Users\\Admin\\Downloads\\words1.txt\"\")"
   ]
  },
  {
   "cell_type": "code",
   "execution_count": 75,
   "id": "e807223b",
   "metadata": {},
   "outputs": [
    {
     "name": "stdout",
     "output_type": "stream",
     "text": [
      "A tree is a woody perennial plant typically with branches.\n",
      "\n",
      "10\n"
     ]
    }
   ],
   "source": [
    "# Question: Create a function that takes a text file as input and returns the number of words contained in the text file.\n",
    "#     Please take into consideration that a comma can separate some words with no space. For example, \"Hi, it's me.\"\n",
    "#     would need to be counted as three words. For your convenience, you can use the text file in the attachment.\n",
    "import re\n",
    "def wordCounter():\n",
    "    path = r\"C:\\Users\\Admin\\Downloads\\words2.txt\"  \n",
    "    with open(path,\"r\") as file:\n",
    "        data = file.read()\n",
    "        data = data.replace(\",\",\" \")\n",
    "        print(len(data.split()))\n",
    "\n",
    "wordCounter()"
   ]
  },
  {
   "cell_type": "code",
   "execution_count": 76,
   "id": "d14670a4",
   "metadata": {},
   "outputs": [
    {
     "data": {
      "text/plain": [
       "3.0"
      ]
     },
     "execution_count": 76,
     "metadata": {},
     "output_type": "execute_result"
    }
   ],
   "source": [
    "# Question: The following code is supposed to print out the square root of 9, but it throws an error instead because another line before that is missing.\n",
    "#     Please fix the script so that it prints out the square root of 9.\n",
    "math.sqrt(9)"
   ]
  },
  {
   "cell_type": "code",
   "execution_count": 78,
   "id": "b84ba28c",
   "metadata": {},
   "outputs": [
    {
     "name": "stdout",
     "output_type": "stream",
     "text": [
      "0.5403023058681398\n"
     ]
    }
   ],
   "source": [
    "# Question: The script is supposed to output the cosine of angle 1 radian, but instead,\n",
    "#     it is throwing an error. Please fix the code so that it prints out the expected output.\n",
    "\n",
    "import math\n",
    "print(math.cos(1))"
   ]
  },
  {
   "cell_type": "code",
   "execution_count": 80,
   "id": "e4a23668",
   "metadata": {},
   "outputs": [
    {
     "name": "stdout",
     "output_type": "stream",
     "text": [
      "4.0\n"
     ]
    }
   ],
   "source": [
    "# Question: Please try to guess what is missing in the following code and add the missing part \n",
    "#     so that the code works fine.\n",
    "\n",
    "import math\n",
    "print(math.pow(2,2))"
   ]
  },
  {
   "cell_type": "code",
   "execution_count": 87,
   "id": "88175e38",
   "metadata": {},
   "outputs": [],
   "source": [
    "# Question: Create a script that generates a text file with all letters of the English alphabet inside it,\n",
    "#     one letter per line.\n",
    "import string \n",
    "with open('alphabet.txt',\"w\") as file:\n",
    "    for letter in string.ascii_lowercase:\n",
    "        file.write(letter+\"\\n\")"
   ]
  },
  {
   "cell_type": "code",
   "execution_count": 89,
   "id": "0df51b3f",
   "metadata": {},
   "outputs": [
    {
     "name": "stdout",
     "output_type": "stream",
     "text": [
      "5\n",
      "7\n",
      "9\n",
      "5\n",
      "7\n",
      "9\n"
     ]
    }
   ],
   "source": [
    "# Question: Print out in each line the sum of homologous items of the two sequences.\n",
    "a = [1, 2, 3]\n",
    "b = (4, 5, 6)\n",
    "n=0\n",
    "while(n<len(a)):\n",
    "    print(a[n]+b[n])\n",
    "    n+=1\n",
    "for i,j in zip(a,b):\n",
    "    print(i+j)"
   ]
  },
  {
   "cell_type": "code",
   "execution_count": 3,
   "id": "3bedfc5b",
   "metadata": {},
   "outputs": [],
   "source": [
    "# Question: Create a script that generates a file where all letters of the English alphabet are listed two in each line.\n",
    "#     The inside of the text file would look like:\n",
    "# ab\n",
    "# cd\n",
    "# ef\n",
    "\n",
    "import string \n",
    "with open('alphabets.txt',\"w\") as file:\n",
    "    for letter1,letter2 in zip(string.ascii_lowercase[0::2],string.ascii_letters[1::2]):\n",
    "        file.write(letter1+letter2+\"\\n\")\n",
    "        "
   ]
  },
  {
   "cell_type": "code",
   "execution_count": 5,
   "id": "3502196c",
   "metadata": {},
   "outputs": [
    {
     "name": "stdout",
     "output_type": "stream",
     "text": [
      "abcdefghijklmnopqrstuvwxyz \n"
     ]
    }
   ],
   "source": [
    "# Question: Create a script that generates a file where all letters of the English alphabet are listed three in each line. The inside of the text file would look like:\n",
    "# abc\n",
    "# def\n",
    "# ghi\n",
    "# and so on.\n",
    "import string \n",
    "letters = string.ascii_lowercase + \" \"\n",
    "slice1 = letters[0::3]\n",
    "slice2 = letters[1::3]\n",
    "slice3 = letters[2::3]\n",
    "with open('alphabets1.txt',\"w\") as file:\n",
    "    for s1,s2,s3 in zip(slice1,slice2,slice3):\n",
    "        file.write(s1+s2+s3+\"\\n\")"
   ]
  },
  {
   "cell_type": "code",
   "execution_count": 12,
   "id": "5dd0ed5c",
   "metadata": {},
   "outputs": [],
   "source": [
    "# Question: Please create a script that generates 26 text files named a.txt, b.txt, and so on up to z.txt. Each file should contain a letter reflecting its filename. \n",
    "#     So, a.txt will contain letter a, b.txt will contain letter b, and so on.\n",
    "import string\n",
    "letters = string.ascii_lowercase + \" \"\n",
    "i=1\n",
    "while len(letters)>0:\n",
    "    with open (letters[0]+'.text', \"w\") as file:\n",
    "        file.write(letters[0])\n",
    "        letters=letters[i:]\n",
    "        "
   ]
  },
  {
   "cell_type": "code",
   "execution_count": 9,
   "id": "1709f4ce",
   "metadata": {},
   "outputs": [
    {
     "data": {
      "text/plain": [
       "<function str.removesuffix(suffix, /)>"
      ]
     },
     "execution_count": 9,
     "metadata": {},
     "output_type": "execute_result"
    }
   ],
   "source": [
    "letters.\n"
   ]
  }
 ],
 "metadata": {
  "kernelspec": {
   "display_name": "Python 3 (ipykernel)",
   "language": "python",
   "name": "python3"
  },
  "language_info": {
   "codemirror_mode": {
    "name": "ipython",
    "version": 3
   },
   "file_extension": ".py",
   "mimetype": "text/x-python",
   "name": "python",
   "nbconvert_exporter": "python",
   "pygments_lexer": "ipython3",
   "version": "3.9.12"
  }
 },
 "nbformat": 4,
 "nbformat_minor": 5
}
